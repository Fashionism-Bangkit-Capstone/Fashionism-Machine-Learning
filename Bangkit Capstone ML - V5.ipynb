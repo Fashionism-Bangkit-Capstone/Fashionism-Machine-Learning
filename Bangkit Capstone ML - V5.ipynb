{
 "cells": [
  {
   "cell_type": "code",
   "execution_count": 2,
   "metadata": {},
   "outputs": [
    {
     "name": "stdout",
     "output_type": "stream",
     "text": [
      "Collecting gdown\n",
      "  Downloading gdown-4.7.1-py3-none-any.whl (15 kB)\n",
      "Requirement already satisfied: six in d:\\application\\anaconda\\lib\\site-packages (from gdown) (1.16.0)\n",
      "Requirement already satisfied: tqdm in d:\\application\\anaconda\\lib\\site-packages (from gdown) (4.64.0)\n",
      "Requirement already satisfied: requests[socks] in d:\\application\\anaconda\\lib\\site-packages (from gdown) (2.28.0)\n",
      "Requirement already satisfied: filelock in d:\\application\\anaconda\\lib\\site-packages (from gdown) (3.6.0)\n",
      "Requirement already satisfied: beautifulsoup4 in d:\\application\\anaconda\\lib\\site-packages (from gdown) (4.11.1)\n",
      "Requirement already satisfied: soupsieve>1.2 in d:\\application\\anaconda\\lib\\site-packages (from beautifulsoup4->gdown) (2.3.1)\n",
      "Requirement already satisfied: urllib3<1.27,>=1.21.1 in d:\\application\\anaconda\\lib\\site-packages (from requests[socks]->gdown) (1.26.9)\n",
      "Requirement already satisfied: idna<4,>=2.5 in d:\\application\\anaconda\\lib\\site-packages (from requests[socks]->gdown) (3.3)\n",
      "Requirement already satisfied: charset-normalizer~=2.0.0 in d:\\application\\anaconda\\lib\\site-packages (from requests[socks]->gdown) (2.0.4)\n",
      "Requirement already satisfied: certifi>=2017.4.17 in d:\\application\\anaconda\\lib\\site-packages (from requests[socks]->gdown) (2023.5.7)\n",
      "Requirement already satisfied: PySocks!=1.5.7,>=1.5.6 in d:\\application\\anaconda\\lib\\site-packages (from requests[socks]->gdown) (1.7.1)\n",
      "Requirement already satisfied: colorama in d:\\application\\anaconda\\lib\\site-packages (from tqdm->gdown) (0.4.4)\n",
      "Installing collected packages: gdown\n",
      "Successfully installed gdown-4.7.1\n"
     ]
    }
   ],
   "source": [
    "!pip install gdown"
   ]
  },
  {
   "cell_type": "code",
   "execution_count": 6,
   "metadata": {},
   "outputs": [
    {
     "name": "stdout",
     "output_type": "stream",
     "text": [
      "Collecting opencv-python\n",
      "  Downloading opencv_python-4.7.0.72-cp37-abi3-win_amd64.whl (38.2 MB)\n",
      "     ---------------------------------------- 38.2/38.2 MB 1.9 MB/s eta 0:00:00\n",
      "Requirement already satisfied: numpy>=1.19.3 in d:\\application\\anaconda\\lib\\site-packages (from opencv-python) (1.22.4)\n",
      "Installing collected packages: opencv-python\n",
      "Successfully installed opencv-python-4.7.0.72\n"
     ]
    }
   ],
   "source": [
    "!pip install opencv-python"
   ]
  },
  {
   "cell_type": "code",
   "execution_count": 16,
   "metadata": {
    "executionInfo": {
     "elapsed": 725,
     "status": "ok",
     "timestamp": 1685964692144,
     "user": {
      "displayName": "Rezki Ciarchi Frendi Napitupulu",
      "userId": "05295349016351762085"
     },
     "user_tz": -420
    },
    "id": "tkmgBxY78Q_q"
   },
   "outputs": [],
   "source": [
    "# The dataset is in japan, let's try to convert it\n",
    "\n",
    "\n",
    "# Import\n",
    "import gdown # To download the dataset\n",
    "import glob\n",
    "from zipfile import ZipFile\n",
    "import os # Path managing\n",
    "import json # Json file\n",
    "import pandas as pd # To create dataset\n",
    "import re\n",
    "from PIL import Image # For image processing\n",
    "# from google.colab import files # File download\n",
    "import cv2 # Another image processing\n",
    "import numpy as np # image processing\n",
    "from numpy.linalg import norm # Normalize\n",
    "import matplotlib.pyplot as plt # plot image\n",
    "from tqdm import tqdm # Logging the time\n",
    "\n",
    "# /content/IQON3000/2013200/3886103 # This is a sample directory"
   ]
  },
  {
   "cell_type": "markdown",
   "metadata": {
    "id": "jGREy0HuqvUp"
   },
   "source": [
    "# Dump the functions here"
   ]
  },
  {
   "cell_type": "code",
   "execution_count": 9,
   "metadata": {
    "id": "l4Ee7IUBqy0g"
   },
   "outputs": [],
   "source": [
    "# import os\n",
    "# import json\n",
    "# import pandas as pd\n",
    "\n",
    "# base_directory = '/content/IQON3000'\n",
    "\n",
    "# data = []\n",
    "\n",
    "# for root, dirs, files in os.walk(base_directory):\n",
    "#     for file in files:\n",
    "#         if file == '3886103.json':  # Specify the JSON file name\n",
    "#             file_path = os.path.join(root, file)\n",
    "#             with open(file_path, 'r') as json_file:\n",
    "#                 json_data = json.load(json_file)\n",
    "                \n",
    "#                 setId = json_data['setId']\n",
    "#                 user = json_data['user']  # Get the 'user' value from the JSON\n",
    "                \n",
    "#                 for item in json_data['items']:\n",
    "#                     itemId = item['itemId']\n",
    "#                     imgUrl = item['imgUrl']\n",
    "#                     price = item['price']\n",
    "#                     itemName = item['itemName']\n",
    "#                     colors = item['colors']\n",
    "#                     expressions = item['expressions']\n",
    "                    \n",
    "#                     file_directory = os.path.join(base_directory, user, str(setId), str(itemId) + '_m.jpg')\n",
    "                    \n",
    "#                     data.append({\n",
    "#                         'setId': setId,\n",
    "#                         'file_directory': file_directory,\n",
    "#                         'price': price,\n",
    "#                         'itemName': itemName,\n",
    "#                         'colors': colors,\n",
    "#                         'expressions': expressions\n",
    "#                     })\n",
    "\n",
    "# df = pd.DataFrame(data)"
   ]
  },
  {
   "cell_type": "code",
   "execution_count": null,
   "metadata": {
    "id": "lX27XSMgq1JB"
   },
   "outputs": [],
   "source": [
    "# # Mari coba path yang udah dibikin diatas, apakah work atau engga\n",
    "# import matplotlib.pyplot as plt\n",
    "# import matplotlib.image as mpimg\n",
    "\n",
    "# # Specify the image path\n",
    "# image_path = '/content/IQON3000/2013200/3886103/14377622_m.jpg'\n",
    "\n",
    "# # Load and display the image\n",
    "# image = mpimg.imread(image_path)\n",
    "# plt.imshow(image)\n",
    "# plt.axis('off')  # Turn off axis labels\n",
    "# plt.show()\n",
    "\n",
    "# # Mantap, work"
   ]
  },
  {
   "cell_type": "code",
   "execution_count": null,
   "metadata": {
    "id": "nu74K2iaq6MK"
   },
   "outputs": [],
   "source": [
    "# # Create new columns \"category\" and \"color\" in the DataFrame\n",
    "# df[['category', 'color']] = df['category_x_color'].str.split(' × ', expand=True)\n",
    "# df['category_en'] = df['category'].apply(mtranslate.translate, to_language='en')\n",
    "# df['color_en'] = df['color'].apply(mtranslate.translate, to_language='en')\n",
    "\n",
    "# df.drop(columns=[\"category_x_color\", \"colors\", \"category\", \"color\"], inplace=True)\n"
   ]
  },
  {
   "cell_type": "code",
   "execution_count": null,
   "metadata": {
    "id": "WDS4qQ_brAYJ"
   },
   "outputs": [],
   "source": [
    "# Let's try this for x first json files in\n",
    "\n",
    "# base_directory = '/content/IQON3000'\n",
    "# num_files = 100  # Number of JSON files to process\n",
    "\n",
    "# data = []\n",
    "\n",
    "# count = 0\n",
    "# for root, dirs, files in os.walk(base_directory):\n",
    "#     for file in files:\n",
    "#         if count >= num_files:\n",
    "#             break\n",
    "#         if file.endswith('.json'):  # Process only JSON files\n",
    "#             file_path = os.path.join(root, file)\n",
    "#             with open(file_path, 'r') as json_file:\n",
    "#                 json_data = json.load(json_file)\n",
    "                \n",
    "#                 setId = json_data['setId']\n",
    "#                 user = json_data['user']\n",
    "                \n",
    "#                 for item in json_data['items']:\n",
    "#                     itemId = item['itemId']\n",
    "#                     imgUrl = item['imgUrl']\n",
    "#                     price = item['price']\n",
    "#                     itemName = item['itemName']\n",
    "#                     colors = item['colors']\n",
    "#                     expressions = item['expressions']\n",
    "#                     category_x_color = item['category x color']\n",
    "                    \n",
    "#                     file_directory = os.path.join(base_directory, str(user), str(setId), str(itemId) + '_m.jpg')\n",
    "                    \n",
    "#                     data.append({\n",
    "#                         'setId': setId,\n",
    "#                         'file_directory': file_directory,\n",
    "#                         'price': price,\n",
    "#                         'itemName': itemName,\n",
    "#                         'colors': colors,\n",
    "#                         'expressions': expressions,\n",
    "#                         'category_x_color': category_x_color\n",
    "#                     })\n",
    "                \n",
    "#             count += 1\n",
    "#     if count >= num_files:\n",
    "#         break\n",
    "\n",
    "# df = pd.DataFrame(data)\n"
   ]
  },
  {
   "cell_type": "markdown",
   "metadata": {
    "id": "8_8iUWeGzcSD"
   },
   "source": [
    "# Pendahuluan"
   ]
  },
  {
   "cell_type": "code",
   "execution_count": null,
   "metadata": {
    "colab": {
     "background_save": true
    },
    "id": "l6-7s6LgzY9A"
   },
   "outputs": [
    {
     "name": "stderr",
     "output_type": "stream",
     "text": [
      "Downloading...\n",
      "From: https://drive.google.com/uc?id=1sTfUoNPid9zG_MgV--lWZTBP1XZpmcK8\n",
      "To: /content/dataset.zip\n",
      "100%|██████████| 7.57G/7.57G [01:26<00:00, 87.3MB/s]\n"
     ]
    },
    {
     "data": {
      "application/vnd.google.colaboratory.intrinsic+json": {
       "type": "string"
      },
      "text/plain": [
       "'/content/dataset.zip'"
      ]
     },
     "execution_count": 5,
     "metadata": {},
     "output_type": "execute_result"
    }
   ],
   "source": [
    "# # Download the data\n",
    "# import gdown\n",
    "\n",
    "# file_id = '1sTfUoNPid9zG_MgV--lWZTBP1XZpmcK8'\n",
    "# url = f'https://drive.google.com/uc?id={file_id}'\n",
    "\n",
    "# output = '/content/dataset.zip'  # dataset\n",
    "\n",
    "# gdown.download(url, output, quiet=False)"
   ]
  },
  {
   "cell_type": "code",
   "execution_count": 19,
   "metadata": {
    "id": "OdfCcCke0jRX"
   },
   "outputs": [
    {
     "ename": "FileNotFoundError",
     "evalue": "[Errno 2] No such file or directory: 'downloads/IQON3000.zip'",
     "output_type": "error",
     "traceback": [
      "\u001b[1;31m---------------------------------------------------------------------------\u001b[0m",
      "\u001b[1;31mFileNotFoundError\u001b[0m                         Traceback (most recent call last)",
      "Input \u001b[1;32mIn [19]\u001b[0m, in \u001b[0;36m<cell line: 4>\u001b[1;34m()\u001b[0m\n\u001b[0;32m      1\u001b[0m \u001b[38;5;66;03m# unzip the dataset\u001b[39;00m\n\u001b[0;32m      2\u001b[0m \u001b[38;5;66;03m# ! unzip \"IQON3000.zip\"\u001b[39;00m\n\u001b[0;32m      3\u001b[0m \u001b[38;5;66;03m# df = glob.glob('IQON3000.zip')\u001b[39;00m\n\u001b[1;32m----> 4\u001b[0m \u001b[43mZipFile\u001b[49m\u001b[43m(\u001b[49m\u001b[38;5;124;43m'\u001b[39;49m\u001b[38;5;124;43mdownloads/IQON3000.zip\u001b[39;49m\u001b[38;5;124;43m'\u001b[39;49m\u001b[43m)\u001b[49m\n",
      "File \u001b[1;32mD:\\Application\\Anaconda\\lib\\zipfile.py:1248\u001b[0m, in \u001b[0;36mZipFile.__init__\u001b[1;34m(self, file, mode, compression, allowZip64, compresslevel, strict_timestamps)\u001b[0m\n\u001b[0;32m   1246\u001b[0m \u001b[38;5;28;01mwhile\u001b[39;00m \u001b[38;5;28;01mTrue\u001b[39;00m:\n\u001b[0;32m   1247\u001b[0m     \u001b[38;5;28;01mtry\u001b[39;00m:\n\u001b[1;32m-> 1248\u001b[0m         \u001b[38;5;28mself\u001b[39m\u001b[38;5;241m.\u001b[39mfp \u001b[38;5;241m=\u001b[39m \u001b[43mio\u001b[49m\u001b[38;5;241;43m.\u001b[39;49m\u001b[43mopen\u001b[49m\u001b[43m(\u001b[49m\u001b[43mfile\u001b[49m\u001b[43m,\u001b[49m\u001b[43m \u001b[49m\u001b[43mfilemode\u001b[49m\u001b[43m)\u001b[49m\n\u001b[0;32m   1249\u001b[0m     \u001b[38;5;28;01mexcept\u001b[39;00m \u001b[38;5;167;01mOSError\u001b[39;00m:\n\u001b[0;32m   1250\u001b[0m         \u001b[38;5;28;01mif\u001b[39;00m filemode \u001b[38;5;129;01min\u001b[39;00m modeDict:\n",
      "\u001b[1;31mFileNotFoundError\u001b[0m: [Errno 2] No such file or directory: 'downloads/IQON3000.zip'"
     ]
    }
   ],
   "source": [
    "# unzip the dataset\n",
    "# ! unzip \"IQON3000.zip\"\n",
    "# df = glob.glob('IQON3000.zip')\n",
    "ZipFile('downloads/IQON3000.zip')"
   ]
  },
  {
   "cell_type": "markdown",
   "metadata": {
    "id": "RhzamDdx4dZm"
   },
   "source": [
    "# Let's check the dataset"
   ]
  },
  {
   "cell_type": "code",
   "execution_count": 11,
   "metadata": {
    "executionInfo": {
     "elapsed": 598,
     "status": "ok",
     "timestamp": 1685964703924,
     "user": {
      "displayName": "Rezki Ciarchi Frendi Napitupulu",
      "userId": "05295349016351762085"
     },
     "user_tz": -420
    },
    "id": "oqE0iCu95zyY"
   },
   "outputs": [],
   "source": [
    "# Function to List all the files\n",
    "\n",
    "def list_files(directory):\n",
    "  files = os.listdir(directory)\n",
    "  for file in files:\n",
    "      print(file)\n",
    "\n",
    "# Function to print all the images in a directory\n",
    "def print_images_in_directory(directory):\n",
    "  image_files = []\n",
    "\n",
    "  for root, dirs, files in os.walk(directory):\n",
    "      for file in files:\n",
    "          if file.lower().endswith(('.jpg', '.jpeg', '.png', '.gif')):\n",
    "              image_files.append(os.path.join(root, file))\n",
    "\n",
    "  for image_file in image_files:\n",
    "      image = Image.open(image_file)\n",
    "      print(\"\\n\")\n",
    "      image.show()\n",
    "\n",
    "# Function to read the json file\n",
    "def read_json_file(directory):\n",
    "  for filename in os.listdir(directory):\n",
    "      if filename.endswith('.json'):\n",
    "          file_path = os.path.join(directory, filename)\n",
    "          with open(file_path, 'r') as file:\n",
    "              json_content = json.load(file)\n",
    "              print(json_content)\n"
   ]
  },
  {
   "cell_type": "markdown",
   "metadata": {
    "id": "_ocwbLF_V1j_"
   },
   "source": [
    "# CSV File Building"
   ]
  },
  {
   "cell_type": "code",
   "execution_count": null,
   "metadata": {
    "id": "aocfadgqQL5m"
   },
   "outputs": [],
   "source": [
    "# # This code is the same with the code above, but now it's for all the json file\n",
    "# # Some json file is empty, let's just skip all of those empty file\n",
    "\n",
    "# base_directory = '/content/IQON3000'\n",
    "\n",
    "# data = []\n",
    "\n",
    "# for root, dirs, files in os.walk(base_directory):\n",
    "#     for file in files:\n",
    "#         if file.endswith('.json'):  # Process only JSON files\n",
    "#             file_path = os.path.join(root, file)\n",
    "#             try:\n",
    "#                 with open(file_path, 'r') as json_file:\n",
    "#                     json_data = json.load(json_file)\n",
    "                    \n",
    "#                     setId = json_data['setId']\n",
    "#                     user = json_data['user']\n",
    "                    \n",
    "#                     for item in json_data['items']:\n",
    "#                         itemId = item['itemId']\n",
    "#                         imgUrl = item['imgUrl']\n",
    "#                         price = item['price']\n",
    "#                         itemName = item['itemName']\n",
    "#                         colors = item['colors']\n",
    "#                         expressions = item['expressions']\n",
    "#                         category_x_color = item['category x color']\n",
    "                        \n",
    "#                         file_directory = os.path.join(base_directory, str(user), str(setId), str(itemId) + '_m.jpg')\n",
    "                        \n",
    "#                         data.append({\n",
    "#                             'setId': setId,\n",
    "#                             'file_directory': file_directory,\n",
    "#                             'price': price,\n",
    "#                             'itemName': itemName,\n",
    "#                             'expressions': expressions,\n",
    "#                             'category_x_color': category_x_color})\n",
    "#             except Exception as e:\n",
    "#                 print(f\"Error processing JSON file: {file_path}\")\n",
    "#                 print(f\"Error message: {str(e)}\")\n",
    "#                 continue\n",
    "\n",
    "# df = pd.DataFrame(data)"
   ]
  },
  {
   "cell_type": "code",
   "execution_count": 4,
   "metadata": {
    "colab": {
     "base_uri": "https://localhost:8080/",
     "height": 325
    },
    "executionInfo": {
     "elapsed": 4,
     "status": "error",
     "timestamp": 1685964709998,
     "user": {
      "displayName": "Rezki Ciarchi Frendi Napitupulu",
      "userId": "05295349016351762085"
     },
     "user_tz": -420
    },
    "id": "0EATdFSLs32W",
    "outputId": "00d15b25-8159-489e-b42c-ec7cdd305f9e"
   },
   "outputs": [
    {
     "ename": "FileNotFoundError",
     "evalue": "ignored",
     "output_type": "error",
     "traceback": [
      "\u001b[0;31m---------------------------------------------------------------------------\u001b[0m",
      "\u001b[0;31mFileNotFoundError\u001b[0m                         Traceback (most recent call last)",
      "\u001b[0;32m<ipython-input-4-5ed13cc08211>\u001b[0m in \u001b[0;36m<cell line: 1>\u001b[0;34m()\u001b[0m\n\u001b[0;32m----> 1\u001b[0;31m \u001b[0mdf\u001b[0m \u001b[0;34m=\u001b[0m \u001b[0mpd\u001b[0m\u001b[0;34m.\u001b[0m\u001b[0mread_csv\u001b[0m\u001b[0;34m(\u001b[0m\u001b[0;34m\"/content/dataset.csv\"\u001b[0m\u001b[0;34m)\u001b[0m\u001b[0;34m\u001b[0m\u001b[0;34m\u001b[0m\u001b[0m\n\u001b[0m",
      "\u001b[0;32m/usr/local/lib/python3.10/dist-packages/pandas/util/_decorators.py\u001b[0m in \u001b[0;36mwrapper\u001b[0;34m(*args, **kwargs)\u001b[0m\n\u001b[1;32m    209\u001b[0m                 \u001b[0;32melse\u001b[0m\u001b[0;34m:\u001b[0m\u001b[0;34m\u001b[0m\u001b[0;34m\u001b[0m\u001b[0m\n\u001b[1;32m    210\u001b[0m                     \u001b[0mkwargs\u001b[0m\u001b[0;34m[\u001b[0m\u001b[0mnew_arg_name\u001b[0m\u001b[0;34m]\u001b[0m \u001b[0;34m=\u001b[0m \u001b[0mnew_arg_value\u001b[0m\u001b[0;34m\u001b[0m\u001b[0;34m\u001b[0m\u001b[0m\n\u001b[0;32m--> 211\u001b[0;31m             \u001b[0;32mreturn\u001b[0m \u001b[0mfunc\u001b[0m\u001b[0;34m(\u001b[0m\u001b[0;34m*\u001b[0m\u001b[0margs\u001b[0m\u001b[0;34m,\u001b[0m \u001b[0;34m**\u001b[0m\u001b[0mkwargs\u001b[0m\u001b[0;34m)\u001b[0m\u001b[0;34m\u001b[0m\u001b[0;34m\u001b[0m\u001b[0m\n\u001b[0m\u001b[1;32m    212\u001b[0m \u001b[0;34m\u001b[0m\u001b[0m\n\u001b[1;32m    213\u001b[0m         \u001b[0;32mreturn\u001b[0m \u001b[0mcast\u001b[0m\u001b[0;34m(\u001b[0m\u001b[0mF\u001b[0m\u001b[0;34m,\u001b[0m \u001b[0mwrapper\u001b[0m\u001b[0;34m)\u001b[0m\u001b[0;34m\u001b[0m\u001b[0;34m\u001b[0m\u001b[0m\n",
      "\u001b[0;32m/usr/local/lib/python3.10/dist-packages/pandas/util/_decorators.py\u001b[0m in \u001b[0;36mwrapper\u001b[0;34m(*args, **kwargs)\u001b[0m\n\u001b[1;32m    329\u001b[0m                     \u001b[0mstacklevel\u001b[0m\u001b[0;34m=\u001b[0m\u001b[0mfind_stack_level\u001b[0m\u001b[0;34m(\u001b[0m\u001b[0;34m)\u001b[0m\u001b[0;34m,\u001b[0m\u001b[0;34m\u001b[0m\u001b[0;34m\u001b[0m\u001b[0m\n\u001b[1;32m    330\u001b[0m                 )\n\u001b[0;32m--> 331\u001b[0;31m             \u001b[0;32mreturn\u001b[0m \u001b[0mfunc\u001b[0m\u001b[0;34m(\u001b[0m\u001b[0;34m*\u001b[0m\u001b[0margs\u001b[0m\u001b[0;34m,\u001b[0m \u001b[0;34m**\u001b[0m\u001b[0mkwargs\u001b[0m\u001b[0;34m)\u001b[0m\u001b[0;34m\u001b[0m\u001b[0;34m\u001b[0m\u001b[0m\n\u001b[0m\u001b[1;32m    332\u001b[0m \u001b[0;34m\u001b[0m\u001b[0m\n\u001b[1;32m    333\u001b[0m         \u001b[0;31m# error: \"Callable[[VarArg(Any), KwArg(Any)], Any]\" has no\u001b[0m\u001b[0;34m\u001b[0m\u001b[0;34m\u001b[0m\u001b[0m\n",
      "\u001b[0;32m/usr/local/lib/python3.10/dist-packages/pandas/io/parsers/readers.py\u001b[0m in \u001b[0;36mread_csv\u001b[0;34m(filepath_or_buffer, sep, delimiter, header, names, index_col, usecols, squeeze, prefix, mangle_dupe_cols, dtype, engine, converters, true_values, false_values, skipinitialspace, skiprows, skipfooter, nrows, na_values, keep_default_na, na_filter, verbose, skip_blank_lines, parse_dates, infer_datetime_format, keep_date_col, date_parser, dayfirst, cache_dates, iterator, chunksize, compression, thousands, decimal, lineterminator, quotechar, quoting, doublequote, escapechar, comment, encoding, encoding_errors, dialect, error_bad_lines, warn_bad_lines, on_bad_lines, delim_whitespace, low_memory, memory_map, float_precision, storage_options)\u001b[0m\n\u001b[1;32m    948\u001b[0m     \u001b[0mkwds\u001b[0m\u001b[0;34m.\u001b[0m\u001b[0mupdate\u001b[0m\u001b[0;34m(\u001b[0m\u001b[0mkwds_defaults\u001b[0m\u001b[0;34m)\u001b[0m\u001b[0;34m\u001b[0m\u001b[0;34m\u001b[0m\u001b[0m\n\u001b[1;32m    949\u001b[0m \u001b[0;34m\u001b[0m\u001b[0m\n\u001b[0;32m--> 950\u001b[0;31m     \u001b[0;32mreturn\u001b[0m \u001b[0m_read\u001b[0m\u001b[0;34m(\u001b[0m\u001b[0mfilepath_or_buffer\u001b[0m\u001b[0;34m,\u001b[0m \u001b[0mkwds\u001b[0m\u001b[0;34m)\u001b[0m\u001b[0;34m\u001b[0m\u001b[0;34m\u001b[0m\u001b[0m\n\u001b[0m\u001b[1;32m    951\u001b[0m \u001b[0;34m\u001b[0m\u001b[0m\n\u001b[1;32m    952\u001b[0m \u001b[0;34m\u001b[0m\u001b[0m\n",
      "\u001b[0;32m/usr/local/lib/python3.10/dist-packages/pandas/io/parsers/readers.py\u001b[0m in \u001b[0;36m_read\u001b[0;34m(filepath_or_buffer, kwds)\u001b[0m\n\u001b[1;32m    603\u001b[0m \u001b[0;34m\u001b[0m\u001b[0m\n\u001b[1;32m    604\u001b[0m     \u001b[0;31m# Create the parser.\u001b[0m\u001b[0;34m\u001b[0m\u001b[0;34m\u001b[0m\u001b[0m\n\u001b[0;32m--> 605\u001b[0;31m     \u001b[0mparser\u001b[0m \u001b[0;34m=\u001b[0m \u001b[0mTextFileReader\u001b[0m\u001b[0;34m(\u001b[0m\u001b[0mfilepath_or_buffer\u001b[0m\u001b[0;34m,\u001b[0m \u001b[0;34m**\u001b[0m\u001b[0mkwds\u001b[0m\u001b[0;34m)\u001b[0m\u001b[0;34m\u001b[0m\u001b[0;34m\u001b[0m\u001b[0m\n\u001b[0m\u001b[1;32m    606\u001b[0m \u001b[0;34m\u001b[0m\u001b[0m\n\u001b[1;32m    607\u001b[0m     \u001b[0;32mif\u001b[0m \u001b[0mchunksize\u001b[0m \u001b[0;32mor\u001b[0m \u001b[0miterator\u001b[0m\u001b[0;34m:\u001b[0m\u001b[0;34m\u001b[0m\u001b[0;34m\u001b[0m\u001b[0m\n",
      "\u001b[0;32m/usr/local/lib/python3.10/dist-packages/pandas/io/parsers/readers.py\u001b[0m in \u001b[0;36m__init__\u001b[0;34m(self, f, engine, **kwds)\u001b[0m\n\u001b[1;32m   1440\u001b[0m \u001b[0;34m\u001b[0m\u001b[0m\n\u001b[1;32m   1441\u001b[0m         \u001b[0mself\u001b[0m\u001b[0;34m.\u001b[0m\u001b[0mhandles\u001b[0m\u001b[0;34m:\u001b[0m \u001b[0mIOHandles\u001b[0m \u001b[0;34m|\u001b[0m \u001b[0;32mNone\u001b[0m \u001b[0;34m=\u001b[0m \u001b[0;32mNone\u001b[0m\u001b[0;34m\u001b[0m\u001b[0;34m\u001b[0m\u001b[0m\n\u001b[0;32m-> 1442\u001b[0;31m         \u001b[0mself\u001b[0m\u001b[0;34m.\u001b[0m\u001b[0m_engine\u001b[0m \u001b[0;34m=\u001b[0m \u001b[0mself\u001b[0m\u001b[0;34m.\u001b[0m\u001b[0m_make_engine\u001b[0m\u001b[0;34m(\u001b[0m\u001b[0mf\u001b[0m\u001b[0;34m,\u001b[0m \u001b[0mself\u001b[0m\u001b[0;34m.\u001b[0m\u001b[0mengine\u001b[0m\u001b[0;34m)\u001b[0m\u001b[0;34m\u001b[0m\u001b[0;34m\u001b[0m\u001b[0m\n\u001b[0m\u001b[1;32m   1443\u001b[0m \u001b[0;34m\u001b[0m\u001b[0m\n\u001b[1;32m   1444\u001b[0m     \u001b[0;32mdef\u001b[0m \u001b[0mclose\u001b[0m\u001b[0;34m(\u001b[0m\u001b[0mself\u001b[0m\u001b[0;34m)\u001b[0m \u001b[0;34m->\u001b[0m \u001b[0;32mNone\u001b[0m\u001b[0;34m:\u001b[0m\u001b[0;34m\u001b[0m\u001b[0;34m\u001b[0m\u001b[0m\n",
      "\u001b[0;32m/usr/local/lib/python3.10/dist-packages/pandas/io/parsers/readers.py\u001b[0m in \u001b[0;36m_make_engine\u001b[0;34m(self, f, engine)\u001b[0m\n\u001b[1;32m   1733\u001b[0m                 \u001b[0;32mif\u001b[0m \u001b[0;34m\"b\"\u001b[0m \u001b[0;32mnot\u001b[0m \u001b[0;32min\u001b[0m \u001b[0mmode\u001b[0m\u001b[0;34m:\u001b[0m\u001b[0;34m\u001b[0m\u001b[0;34m\u001b[0m\u001b[0m\n\u001b[1;32m   1734\u001b[0m                     \u001b[0mmode\u001b[0m \u001b[0;34m+=\u001b[0m \u001b[0;34m\"b\"\u001b[0m\u001b[0;34m\u001b[0m\u001b[0;34m\u001b[0m\u001b[0m\n\u001b[0;32m-> 1735\u001b[0;31m             self.handles = get_handle(\n\u001b[0m\u001b[1;32m   1736\u001b[0m                 \u001b[0mf\u001b[0m\u001b[0;34m,\u001b[0m\u001b[0;34m\u001b[0m\u001b[0;34m\u001b[0m\u001b[0m\n\u001b[1;32m   1737\u001b[0m                 \u001b[0mmode\u001b[0m\u001b[0;34m,\u001b[0m\u001b[0;34m\u001b[0m\u001b[0;34m\u001b[0m\u001b[0m\n",
      "\u001b[0;32m/usr/local/lib/python3.10/dist-packages/pandas/io/common.py\u001b[0m in \u001b[0;36mget_handle\u001b[0;34m(path_or_buf, mode, encoding, compression, memory_map, is_text, errors, storage_options)\u001b[0m\n\u001b[1;32m    854\u001b[0m         \u001b[0;32mif\u001b[0m \u001b[0mioargs\u001b[0m\u001b[0;34m.\u001b[0m\u001b[0mencoding\u001b[0m \u001b[0;32mand\u001b[0m \u001b[0;34m\"b\"\u001b[0m \u001b[0;32mnot\u001b[0m \u001b[0;32min\u001b[0m \u001b[0mioargs\u001b[0m\u001b[0;34m.\u001b[0m\u001b[0mmode\u001b[0m\u001b[0;34m:\u001b[0m\u001b[0;34m\u001b[0m\u001b[0;34m\u001b[0m\u001b[0m\n\u001b[1;32m    855\u001b[0m             \u001b[0;31m# Encoding\u001b[0m\u001b[0;34m\u001b[0m\u001b[0;34m\u001b[0m\u001b[0m\n\u001b[0;32m--> 856\u001b[0;31m             handle = open(\n\u001b[0m\u001b[1;32m    857\u001b[0m                 \u001b[0mhandle\u001b[0m\u001b[0;34m,\u001b[0m\u001b[0;34m\u001b[0m\u001b[0;34m\u001b[0m\u001b[0m\n\u001b[1;32m    858\u001b[0m                 \u001b[0mioargs\u001b[0m\u001b[0;34m.\u001b[0m\u001b[0mmode\u001b[0m\u001b[0;34m,\u001b[0m\u001b[0;34m\u001b[0m\u001b[0;34m\u001b[0m\u001b[0m\n",
      "\u001b[0;31mFileNotFoundError\u001b[0m: [Errno 2] No such file or directory: '/content/dataset.csv'"
     ]
    }
   ],
   "source": [
    "df = pd.read_csv(\"/content/dataset.csv\")"
   ]
  },
  {
   "cell_type": "code",
   "execution_count": null,
   "metadata": {
    "id": "QOJtJBfadFPh"
   },
   "outputs": [],
   "source": [
    "# Create new columns \"category\" and \"color\" in the DataFrame\n",
    "df[['category', 'color']] = df['category_x_color'].str.split(' × ', expand=True)\n",
    "\n",
    "# Map the category to clothes, bottom, and accessories\n",
    "top_categories = ['ニット', 'ブラウス', 'コート', 'ジャケット', 'タンクトップ', 'カーディガン', 'トップス', 'パーカー', 'ダウンジャケット', 'インテリア', '水着', 'チュニック', '浴衣', 'ルームウェア', 'アンダーウェア', 'ワンピース']\n",
    "bottom_categories = ['ロングパンツ', 'スカート', 'Tシャツ', 'ショートパンツ', 'ロングスカート']\n",
    "accessories_categories = ['ピアス', 'ショルダーバッグ', 'パンプス', 'ネックレス', 'サンダル', 'ブレスレット', 'スニーカー', 'コスメ', '腕時計', 'トートバッグ', 'ブーツ', 'クラッチバッグ', 'ストール', 'ハット', 'ハンドバッグ', 'サングラス', 'レッグウェア', 'リング', 'メガネ', 'ヘアアクセサリー', 'リュック', 'キャップ', 'バッグ', 'ベルト', '靴', '帽子', 'フレグランス', 'ニット帽', 'ネイル', 'ボストンバッグ', '小物', '財布', '手袋', 'ボディケア', 'ブローチ', '傘', 'ファッション小物', 'ステーショナリー', 'アクセサリー', 'ルームシューズ']\n",
    "df['category_mapped'] = df['category'].map(lambda x: 'Top' if x in top_categories else ('Bottom' if x in bottom_categories else 'Accessories'))\n",
    "\n",
    "# Drop the unnecesarry column\n",
    "df.drop(columns=[\"category_x_color\", \"category\"], inplace=True)"
   ]
  },
  {
   "cell_type": "code",
   "execution_count": null,
   "metadata": {
    "colab": {
     "base_uri": "https://localhost:8080/"
    },
    "executionInfo": {
     "elapsed": 391,
     "status": "ok",
     "timestamp": 1685958146783,
     "user": {
      "displayName": "Rezki Ciarchi Frendi Napitupulu",
      "userId": "05295349016351762085"
     },
     "user_tz": -420
    },
    "id": "KfMqhSoetad1",
    "outputId": "7b46f3d5-ec64-4d63-b425-a33f6edfebb2"
   },
   "outputs": [
    {
     "data": {
      "text/plain": [
       "Accessories    1137098\n",
       "Top             377798\n",
       "Bottom          275112\n",
       "Name: category_mapped, dtype: int64"
      ]
     },
     "execution_count": 60,
     "metadata": {},
     "output_type": "execute_result"
    }
   ],
   "source": [
    "df[\"category_mapped\"].value_counts()"
   ]
  },
  {
   "cell_type": "code",
   "execution_count": null,
   "metadata": {
    "id": "kws2dQ4jhxLF"
   },
   "outputs": [],
   "source": [
    "# Export to a csv file\n",
    "# output_file = '/content/dataset.csv'  # Specify the output file path\n",
    "\n",
    "# df.to_csv(output_file, index=False)\n",
    "\n",
    "# Uncomment to download the exported file\n",
    "# from google.colab import files\n",
    "\n",
    "# files.download('/content/dataset.csv')"
   ]
  },
  {
   "cell_type": "code",
   "execution_count": null,
   "metadata": {
    "colab": {
     "base_uri": "https://localhost:8080/",
     "height": 337
    },
    "executionInfo": {
     "elapsed": 7,
     "status": "ok",
     "timestamp": 1685958155386,
     "user": {
      "displayName": "Rezki Ciarchi Frendi Napitupulu",
      "userId": "05295349016351762085"
     },
     "user_tz": -420
    },
    "id": "KO0uW7Gyez7o",
    "outputId": "36a03be3-1883-4412-b76d-c774add42057"
   },
   "outputs": [
    {
     "data": {
      "text/html": [
       "\n",
       "  <div id=\"df-75ff23ba-21e2-43e5-89a3-0776692e0a3e\">\n",
       "    <div class=\"colab-df-container\">\n",
       "      <div>\n",
       "<style scoped>\n",
       "    .dataframe tbody tr th:only-of-type {\n",
       "        vertical-align: middle;\n",
       "    }\n",
       "\n",
       "    .dataframe tbody tr th {\n",
       "        vertical-align: top;\n",
       "    }\n",
       "\n",
       "    .dataframe thead th {\n",
       "        text-align: right;\n",
       "    }\n",
       "</style>\n",
       "<table border=\"1\" class=\"dataframe\">\n",
       "  <thead>\n",
       "    <tr style=\"text-align: right;\">\n",
       "      <th></th>\n",
       "      <th>setId</th>\n",
       "      <th>file_directory</th>\n",
       "      <th>price</th>\n",
       "      <th>itemName</th>\n",
       "      <th>expressions</th>\n",
       "      <th>color</th>\n",
       "      <th>category_mapped</th>\n",
       "    </tr>\n",
       "  </thead>\n",
       "  <tbody>\n",
       "    <tr>\n",
       "      <th>0</th>\n",
       "      <td>4011767</td>\n",
       "      <td>/content/IQON3000/2479945/4011767/40578648_m.jpg</td>\n",
       "      <td>¥3,229</td>\n",
       "      <td>・レースビスチェドッキングプルオーバー</td>\n",
       "      <td>['アイテム説明シアーなレース生地を、ビスチェ風にドッキングしたデザインが旬顔のプルオーバー...</td>\n",
       "      <td>ベージュ</td>\n",
       "      <td>Bottom</td>\n",
       "    </tr>\n",
       "    <tr>\n",
       "      <th>1</th>\n",
       "      <td>4011767</td>\n",
       "      <td>/content/IQON3000/2479945/4011767/37671569_m.jpg</td>\n",
       "      <td>¥12,312</td>\n",
       "      <td>STRIPE TAPERD PANTS</td>\n",
       "      <td>['アイテム説明＜2018 SPRING COLLECTION＞ ハリ感のある先染めツイルの...</td>\n",
       "      <td>緑（グリーン）</td>\n",
       "      <td>Bottom</td>\n",
       "    </tr>\n",
       "    <tr>\n",
       "      <th>2</th>\n",
       "      <td>4011767</td>\n",
       "      <td>/content/IQON3000/2479945/4011767/16017657_m.jpg</td>\n",
       "      <td>¥839</td>\n",
       "      <td>取寄SOLDOUT 細グログランサーモ中折れハット</td>\n",
       "      <td>['アイテム説明編地がポイントのサーモ中折れハット。細いグログランリボンに小さいプレートがフ...</td>\n",
       "      <td>ベージュ</td>\n",
       "      <td>Accessories</td>\n",
       "    </tr>\n",
       "    <tr>\n",
       "      <th>3</th>\n",
       "      <td>4011767</td>\n",
       "      <td>/content/IQON3000/2479945/4011767/37598810_m.jpg</td>\n",
       "      <td>¥105,840</td>\n",
       "      <td>オープントゥサンダル</td>\n",
       "      <td>['アイテム説明-【送料】商品のサイズや重量、配送ルートよって異なる\\r\\n【配送期間】3～...</td>\n",
       "      <td>ピンク</td>\n",
       "      <td>Accessories</td>\n",
       "    </tr>\n",
       "    <tr>\n",
       "      <th>4</th>\n",
       "      <td>4011767</td>\n",
       "      <td>/content/IQON3000/2479945/4011767/41078755_m.jpg</td>\n",
       "      <td>¥1,944</td>\n",
       "      <td>シェルピアス</td>\n",
       "      <td>['アイテム説明スクエア型のシェルとゴールドを組み合わせたピアスです。型押しテクスチャを施し...</td>\n",
       "      <td>ベージュ</td>\n",
       "      <td>Accessories</td>\n",
       "    </tr>\n",
       "  </tbody>\n",
       "</table>\n",
       "</div>\n",
       "      <button class=\"colab-df-convert\" onclick=\"convertToInteractive('df-75ff23ba-21e2-43e5-89a3-0776692e0a3e')\"\n",
       "              title=\"Convert this dataframe to an interactive table.\"\n",
       "              style=\"display:none;\">\n",
       "        \n",
       "  <svg xmlns=\"http://www.w3.org/2000/svg\" height=\"24px\"viewBox=\"0 0 24 24\"\n",
       "       width=\"24px\">\n",
       "    <path d=\"M0 0h24v24H0V0z\" fill=\"none\"/>\n",
       "    <path d=\"M18.56 5.44l.94 2.06.94-2.06 2.06-.94-2.06-.94-.94-2.06-.94 2.06-2.06.94zm-11 1L8.5 8.5l.94-2.06 2.06-.94-2.06-.94L8.5 2.5l-.94 2.06-2.06.94zm10 10l.94 2.06.94-2.06 2.06-.94-2.06-.94-.94-2.06-.94 2.06-2.06.94z\"/><path d=\"M17.41 7.96l-1.37-1.37c-.4-.4-.92-.59-1.43-.59-.52 0-1.04.2-1.43.59L10.3 9.45l-7.72 7.72c-.78.78-.78 2.05 0 2.83L4 21.41c.39.39.9.59 1.41.59.51 0 1.02-.2 1.41-.59l7.78-7.78 2.81-2.81c.8-.78.8-2.07 0-2.86zM5.41 20L4 18.59l7.72-7.72 1.47 1.35L5.41 20z\"/>\n",
       "  </svg>\n",
       "      </button>\n",
       "      \n",
       "  <style>\n",
       "    .colab-df-container {\n",
       "      display:flex;\n",
       "      flex-wrap:wrap;\n",
       "      gap: 12px;\n",
       "    }\n",
       "\n",
       "    .colab-df-convert {\n",
       "      background-color: #E8F0FE;\n",
       "      border: none;\n",
       "      border-radius: 50%;\n",
       "      cursor: pointer;\n",
       "      display: none;\n",
       "      fill: #1967D2;\n",
       "      height: 32px;\n",
       "      padding: 0 0 0 0;\n",
       "      width: 32px;\n",
       "    }\n",
       "\n",
       "    .colab-df-convert:hover {\n",
       "      background-color: #E2EBFA;\n",
       "      box-shadow: 0px 1px 2px rgba(60, 64, 67, 0.3), 0px 1px 3px 1px rgba(60, 64, 67, 0.15);\n",
       "      fill: #174EA6;\n",
       "    }\n",
       "\n",
       "    [theme=dark] .colab-df-convert {\n",
       "      background-color: #3B4455;\n",
       "      fill: #D2E3FC;\n",
       "    }\n",
       "\n",
       "    [theme=dark] .colab-df-convert:hover {\n",
       "      background-color: #434B5C;\n",
       "      box-shadow: 0px 1px 3px 1px rgba(0, 0, 0, 0.15);\n",
       "      filter: drop-shadow(0px 1px 2px rgba(0, 0, 0, 0.3));\n",
       "      fill: #FFFFFF;\n",
       "    }\n",
       "  </style>\n",
       "\n",
       "      <script>\n",
       "        const buttonEl =\n",
       "          document.querySelector('#df-75ff23ba-21e2-43e5-89a3-0776692e0a3e button.colab-df-convert');\n",
       "        buttonEl.style.display =\n",
       "          google.colab.kernel.accessAllowed ? 'block' : 'none';\n",
       "\n",
       "        async function convertToInteractive(key) {\n",
       "          const element = document.querySelector('#df-75ff23ba-21e2-43e5-89a3-0776692e0a3e');\n",
       "          const dataTable =\n",
       "            await google.colab.kernel.invokeFunction('convertToInteractive',\n",
       "                                                     [key], {});\n",
       "          if (!dataTable) return;\n",
       "\n",
       "          const docLinkHtml = 'Like what you see? Visit the ' +\n",
       "            '<a target=\"_blank\" href=https://colab.research.google.com/notebooks/data_table.ipynb>data table notebook</a>'\n",
       "            + ' to learn more about interactive tables.';\n",
       "          element.innerHTML = '';\n",
       "          dataTable['output_type'] = 'display_data';\n",
       "          await google.colab.output.renderOutput(dataTable, element);\n",
       "          const docLink = document.createElement('div');\n",
       "          docLink.innerHTML = docLinkHtml;\n",
       "          element.appendChild(docLink);\n",
       "        }\n",
       "      </script>\n",
       "    </div>\n",
       "  </div>\n",
       "  "
      ],
      "text/plain": [
       "     setId                                    file_directory     price  \\\n",
       "0  4011767  /content/IQON3000/2479945/4011767/40578648_m.jpg    ¥3,229   \n",
       "1  4011767  /content/IQON3000/2479945/4011767/37671569_m.jpg   ¥12,312   \n",
       "2  4011767  /content/IQON3000/2479945/4011767/16017657_m.jpg      ¥839   \n",
       "3  4011767  /content/IQON3000/2479945/4011767/37598810_m.jpg  ¥105,840   \n",
       "4  4011767  /content/IQON3000/2479945/4011767/41078755_m.jpg    ¥1,944   \n",
       "\n",
       "                    itemName  \\\n",
       "0        ・レースビスチェドッキングプルオーバー   \n",
       "1        STRIPE TAPERD PANTS   \n",
       "2  取寄SOLDOUT 細グログランサーモ中折れハット   \n",
       "3                 オープントゥサンダル   \n",
       "4                     シェルピアス   \n",
       "\n",
       "                                         expressions    color category_mapped  \n",
       "0  ['アイテム説明シアーなレース生地を、ビスチェ風にドッキングしたデザインが旬顔のプルオーバー...     ベージュ          Bottom  \n",
       "1  ['アイテム説明＜2018 SPRING COLLECTION＞ ハリ感のある先染めツイルの...  緑（グリーン）          Bottom  \n",
       "2  ['アイテム説明編地がポイントのサーモ中折れハット。細いグログランリボンに小さいプレートがフ...     ベージュ     Accessories  \n",
       "3  ['アイテム説明-【送料】商品のサイズや重量、配送ルートよって異なる\\r\\n【配送期間】3～...      ピンク     Accessories  \n",
       "4  ['アイテム説明スクエア型のシェルとゴールドを組み合わせたピアスです。型押しテクスチャを施し...     ベージュ     Accessories  "
      ]
     },
     "execution_count": 61,
     "metadata": {},
     "output_type": "execute_result"
    }
   ],
   "source": [
    "df.head()"
   ]
  },
  {
   "cell_type": "code",
   "execution_count": null,
   "metadata": {
    "colab": {
     "background_save": true,
     "output_embedded_package_id": "1GlkWT_gTcqkibITvbkguKn5vr_1yExxs"
    },
    "id": "S5Yirakl6vxW",
    "outputId": "66b32447-9f8e-4a06-8860-02d0fcda6f5e"
   },
   "outputs": [
    {
     "data": {
      "text/plain": [
       "Output hidden; open in https://colab.research.google.com to view."
      ]
     },
     "metadata": {},
     "output_type": "display_data"
    }
   ],
   "source": [
    "df[\"category_mapped\"].isnull().sum()"
   ]
  },
  {
   "cell_type": "markdown",
   "metadata": {
    "id": "XMlt0CUZ6Jid"
   },
   "source": [
    "# Make dataset into a smaller size"
   ]
  },
  {
   "cell_type": "code",
   "execution_count": null,
   "metadata": {
    "id": "3q4bHsgs6MHm"
   },
   "outputs": [],
   "source": []
  },
  {
   "cell_type": "markdown",
   "metadata": {
    "id": "mTUx8BkiWFxH"
   },
   "source": [
    "# Feature Extraction"
   ]
  },
  {
   "cell_type": "code",
   "execution_count": null,
   "metadata": {
    "id": "Bga7XR8mWHN4"
   },
   "outputs": [],
   "source": [
    "# Import\n",
    "import tensorflow as tf\n",
    "from keras.applications.resnet import ResNet50, preprocess_input\n",
    "from keras import Sequential\n",
    "from keras.layers import GlobalMaxPooling2D"
   ]
  },
  {
   "cell_type": "code",
   "execution_count": null,
   "metadata": {
    "id": "CuyJSq5gkSDv"
   },
   "outputs": [],
   "source": [
    "# Prepare the base model\n",
    "model = ResNet50(weights='imagenet', include_top=False, input_shape=(150,150,3))\n",
    "model.trainable=False"
   ]
  },
  {
   "cell_type": "code",
   "execution_count": null,
   "metadata": {
    "colab": {
     "base_uri": "https://localhost:8080/"
    },
    "executionInfo": {
     "elapsed": 1132,
     "status": "ok",
     "timestamp": 1685956323480,
     "user": {
      "displayName": "Rezki Ciarchi Frendi Napitupulu",
      "userId": "05295349016351762085"
     },
     "user_tz": -420
    },
    "id": "hbOdH9FzkpkN",
    "outputId": "bcc277ef-4589-4ad0-e6cf-80e8a11f6244"
   },
   "outputs": [
    {
     "name": "stdout",
     "output_type": "stream",
     "text": [
      "Model: \"sequential\"\n",
      "_________________________________________________________________\n",
      " Layer (type)                Output Shape              Param #   \n",
      "=================================================================\n",
      " resnet50 (Functional)       (None, 5, 5, 2048)        23587712  \n",
      "                                                                 \n",
      " global_max_pooling2d (Globa  (None, 2048)             0         \n",
      " lMaxPooling2D)                                                  \n",
      "                                                                 \n",
      "=================================================================\n",
      "Total params: 23,587,712\n",
      "Trainable params: 0\n",
      "Non-trainable params: 23,587,712\n",
      "_________________________________________________________________\n"
     ]
    }
   ],
   "source": [
    "# Add global max pooling to the model\n",
    "model = tf.keras.Sequential([\n",
    "    model,\n",
    "    GlobalMaxPooling2D()\n",
    "])\n",
    "model.summary()"
   ]
  },
  {
   "cell_type": "code",
   "execution_count": null,
   "metadata": {
    "colab": {
     "base_uri": "https://localhost:8080/",
     "height": 406
    },
    "executionInfo": {
     "elapsed": 949,
     "status": "ok",
     "timestamp": 1685956504847,
     "user": {
      "displayName": "Rezki Ciarchi Frendi Napitupulu",
      "userId": "05295349016351762085"
     },
     "user_tz": -420
    },
    "id": "zAv73LVKln3W",
    "outputId": "de15bdc4-f463-415d-87c1-5391f97f016c"
   },
   "outputs": [
    {
     "data": {
      "image/png": "[encoded data removed]",
      "text/plain": [
       "<Figure size 640x480 with 1 Axes>"
      ]
     },
     "metadata": {},
     "output_type": "display_data"
    }
   ],
   "source": [
    "# Load the image\n",
    "img = cv2.imread(\"/content/IQON3000/2479945/4011767/40578648_m.jpg\")\n",
    "\n",
    "# Display the image using matplotlib\n",
    "plt.imshow(img_rgb)\n",
    "plt.axis('off')  # Turn off axis labels\n",
    "plt.show()"
   ]
  },
  {
   "cell_type": "code",
   "execution_count": null,
   "metadata": {
    "id": "6g0bTw8BnWfs"
   },
   "outputs": [],
   "source": [
    "def extract_feature(img_path, model):\n",
    "  # Read the image\n",
    "  img = cv2.imread(img_path)\n",
    "  # Convert to array\n",
    "  img = np.array(img)\n",
    "  # Expand dims to put the img number\n",
    "  expand_img = np.expand_dims(img, axis=0)\n",
    "  # Preprocess\n",
    "  pre_img = preprocess_input(expand_img)\n",
    "  # Process through model\n",
    "  result = model.predict(pre_img).flatten()\n",
    "  # Normalize\n",
    "  normalized = result/norm(result)\n",
    "\n",
    "  return normalized"
   ]
  },
  {
   "cell_type": "code",
   "execution_count": null,
   "metadata": {
    "colab": {
     "base_uri": "https://localhost:8080/"
    },
    "executionInfo": {
     "elapsed": 348,
     "status": "ok",
     "timestamp": 1685957201055,
     "user": {
      "displayName": "Rezki Ciarchi Frendi Napitupulu",
      "userId": "05295349016351762085"
     },
     "user_tz": -420
    },
    "id": "NIfTeiaLocVd",
    "outputId": "1d03babc-798b-48d5-9fe7-cf65cc823c56"
   },
   "outputs": [
    {
     "name": "stdout",
     "output_type": "stream",
     "text": [
      "1/1 [==============================] - 0s 150ms/step\n"
     ]
    },
    {
     "data": {
      "text/plain": [
       "array([0.00462501, 0.01820162, 0.01394698, ..., 0.00577733, 0.01367161,\n",
       "       0.0284748 ], dtype=float32)"
      ]
     },
     "execution_count": 40,
     "metadata": {},
     "output_type": "execute_result"
    }
   ],
   "source": [
    "extract_feature(\"/content/IQON3000/2479945/4011767/37598810_m.jpg\", model)"
   ]
  },
  {
   "cell_type": "code",
   "execution_count": null,
   "metadata": {
    "colab": {
     "base_uri": "https://localhost:8080/"
    },
    "executionInfo": {
     "elapsed": 345,
     "status": "ok",
     "timestamp": 1685957021501,
     "user": {
      "displayName": "Rezki Ciarchi Frendi Napitupulu",
      "userId": "05295349016351762085"
     },
     "user_tz": -420
    },
    "id": "fzeu0FM_olSS",
    "outputId": "681fd50d-fb14-476d-f158-60bf44db048d"
   },
   "outputs": [
    {
     "data": {
      "text/plain": [
       "(1790008, 7)"
      ]
     },
     "execution_count": 33,
     "metadata": {},
     "output_type": "execute_result"
    }
   ],
   "source": [
    "df.shape"
   ]
  },
  {
   "cell_type": "code",
   "execution_count": null,
   "metadata": {
    "id": "CI3ytkya15f4"
   },
   "outputs": [],
   "source": [
    "# I want to try how long will it takes to extract features from only one folder\n",
    "\n",
    "df_test = df[df['setId'] == 4011767]"
   ]
  },
  {
   "cell_type": "code",
   "execution_count": null,
   "metadata": {
    "colab": {
     "base_uri": "https://localhost:8080/"
    },
    "executionInfo": {
     "elapsed": 406,
     "status": "ok",
     "timestamp": 1685957082090,
     "user": {
      "displayName": "Rezki Ciarchi Frendi Napitupulu",
      "userId": "05295349016351762085"
     },
     "user_tz": -420
    },
    "id": "oWTkMf6X32BV",
    "outputId": "cb8fe481-3753-46a9-b5df-e1a2500f9b32"
   },
   "outputs": [
    {
     "data": {
      "text/plain": [
       "(7, 7)"
      ]
     },
     "execution_count": 35,
     "metadata": {},
     "output_type": "execute_result"
    }
   ],
   "source": [
    "df_test.shape"
   ]
  },
  {
   "cell_type": "code",
   "execution_count": null,
   "metadata": {
    "id": "LAhXU1Tj2jpY"
   },
   "outputs": [],
   "source": [
    "# Export the filename\n",
    "filename = df['file_directory'].tolist()"
   ]
  },
  {
   "cell_type": "code",
   "execution_count": null,
   "metadata": {
    "id": "zBeW6Eg53Y83"
   },
   "outputs": [],
   "source": [
    "feature_list = []\n",
    "\n",
    "for file in tqdm(filename):\n",
    "  feature_list.append(extract_feature(file,model))"
   ]
  }
 ],
 "metadata": {
  "colab": {
   "authorship_tag": "ABX9TyMETvI2gohyDwFU+NOE+dn8",
   "name": "",
   "version": ""
  },
  "kernelspec": {
   "display_name": "Python 3 (ipykernel)",
   "language": "python",
   "name": "python3"
  },
  "language_info": {
   "codemirror_mode": {
    "name": "ipython",
    "version": 3
   },
   "file_extension": ".py",
   "mimetype": "text/x-python",
   "name": "python",
   "nbconvert_exporter": "python",
   "pygments_lexer": "ipython3",
   "version": "3.9.12"
  }
 },
 "nbformat": 4,
 "nbformat_minor": 1
}
