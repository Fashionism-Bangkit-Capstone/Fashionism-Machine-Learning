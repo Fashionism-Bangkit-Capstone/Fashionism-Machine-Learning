{
 "cells": [
  {
   "attachments": {},
   "cell_type": "markdown",
   "metadata": {},
   "source": [
    "# Initialization"
   ]
  },
  {
   "cell_type": "code",
   "execution_count": 1,
   "metadata": {},
   "outputs": [],
   "source": [
    "import pandas as pd"
   ]
  },
  {
   "cell_type": "code",
   "execution_count": 27,
   "metadata": {},
   "outputs": [],
   "source": [
    "df = pd.read_csv(\"D:\\Project\\Fashionism-Machine-Learning\\dataset7.csv\")"
   ]
  },
  {
   "attachments": {},
   "cell_type": "markdown",
   "metadata": {},
   "source": [
    "# Recommendation system"
   ]
  },
  {
   "cell_type": "code",
   "execution_count": 28,
   "metadata": {},
   "outputs": [],
   "source": [
    "# =================\n",
    "#      IMPORT\n",
    "# =================\n",
    "# Import\n",
    "import os # Path managing\n",
    "import json # Json file\n",
    "import pickle\n",
    "import re\n",
    "import cv2 # Another image processing\n",
    "import concurrent.futures # Do parallel computing\n",
    "import random\n",
    "import shutil\n",
    "import pandas as pd # To create dataset\n",
    "import numpy as np # image processing\n",
    "import matplotlib.pyplot as plt # plot image\n",
    "from PIL import Image # For image processing\n",
    "from numpy.linalg import norm # Normalize\n",
    "from tqdm import tqdm # Logging the time\n",
    "import matplotlib.image as mpimg\n",
    "\n",
    "# Tensorflow\n",
    "import tensorflow as tf\n",
    "from keras.preprocessing.image import ImageDataGenerator\n",
    "from sklearn.model_selection import train_test_split\n",
    "from sklearn.utils import shuffle\n",
    "from keras.callbacks import EarlyStopping\n",
    "from keras.preprocessing.image import ImageDataGenerator\n",
    "from sklearn.model_selection import train_test_split\n",
    "from sklearn.utils import shuffle\n",
    "from keras.callbacks import EarlyStopping\n",
    "from keras.models import load_model\n",
    "from keras.layers import GlobalMaxPooling2D\n",
    "from keras.applications import ResNet50\n",
    "from keras.applications.resnet import preprocess_input\n",
    "from sklearn.neighbors import NearestNeighbors"
   ]
  },
  {
   "cell_type": "code",
   "execution_count": 55,
   "metadata": {},
   "outputs": [],
   "source": [
    "df = pd.read_csv(\"dataset8.csv\")"
   ]
  },
  {
   "cell_type": "code",
   "execution_count": 56,
   "metadata": {},
   "outputs": [],
   "source": [
    "# =====================\n",
    "#     FUNCTIONS\n",
    "# =====================\n",
    "\n",
    "def recommend(features,feature_list):\n",
    "    neighbors = NearestNeighbors(n_neighbors=6, algorithm='brute', metric='euclidean')\n",
    "    neighbors.fit(feature_list)\n",
    "\n",
    "    distances, indices = neighbors.kneighbors([features])\n",
    "\n",
    "    return indices\n",
    "\n",
    "def extract_feature(img_path, model):\n",
    "  img = cv2.imread(img_path)\n",
    "  img = cv2.resize(img, (150,150))\n",
    "  img = np.array(img)\n",
    "  expand_img = np.expand_dims(img, axis=0)\n",
    "  pre_img = preprocess_input(expand_img)\n",
    "  result = model.predict(pre_img).flatten()\n",
    "  normalized = result/norm(result)\n",
    "  return normalized"
   ]
  },
  {
   "cell_type": "code",
   "execution_count": 57,
   "metadata": {},
   "outputs": [
    {
     "name": "stdout",
     "output_type": "stream",
     "text": [
      "WARNING:tensorflow:No training configuration found in the save file, so the model was *not* compiled. Compile it manually.\n"
     ]
    }
   ],
   "source": [
    "# =================\n",
    "# MODELS IMPORT\n",
    "# =================\n",
    "\n",
    "model_top_down = load_model(\"D:\\Project\\Fashionism-Machine-Learning\\Models/model_top_down.h5\")\n",
    "model_extraction = load_model(\"D:\\Project\\Fashionism-Machine-Learning\\Models/feature_extract_model.h5\")\n",
    "\n",
    "top_feature_list = np.array(pickle.load(open(\"D:\\Project\\Fashionism-Machine-Learning\\Models/top_feature_extraction.pkl\", \"rb\")))\n",
    "bottom_feature_list = np.array(pickle.load(open(\"D:\\Project\\Fashionism-Machine-Learning\\Models/bottom_feature_extraction.pkl\", \"rb\")))\n",
    "\n",
    "top_filenames = pickle.load(open('D:\\Project\\Fashionism-Machine-Learning\\Models/top_directory.pkl', \"rb\"))\n",
    "bottom_filenames = pickle.load(open(\"D:\\Project\\Fashionism-Machine-Learning\\Models/bottom_directory.pkl\", \"rb\"))\n",
    "\n",
    "top_filenames_df = pickle.load(open('D:\\Project\\Fashionism-Machine-Learning\\Models/top_directory_df.pkl', 'rb'))\n",
    "bottom_filenames_df = pickle.load(open('D:\\Project\\Fashionism-Machine-Learning\\Models/bottom_directory_df.pkl', 'rb'))"
   ]
  },
  {
   "cell_type": "code",
   "execution_count": 58,
   "metadata": {},
   "outputs": [
    {
     "name": "stdout",
     "output_type": "stream",
     "text": [
      "1/1 [==============================] - 0s 180ms/step\n",
      "top\n"
     ]
    }
   ],
   "source": [
    "# Upload the images\n",
    "# =================\n",
    "\n",
    "# Sebagai contoh, dia langsung menerima inputtan image aja\n",
    "image_path = \"Uploads/test.jpg\"\n",
    "\n",
    "# Image Classification\n",
    "# =====================\n",
    "\n",
    "# Image preprocessing\n",
    "image = Image.open(image_path)\n",
    "image = image.resize((150, 150))\n",
    "image = np.array(image) / 255.0\n",
    "image = np.expand_dims(image, axis=0)\n",
    "\n",
    "# Predict the category\n",
    "prediction = model_top_down.predict(image)\n",
    "predicted_class = 'top' if prediction[0][0] > 0.5 else 'bottom'\n",
    "\n",
    "print(predicted_class)"
   ]
  },
  {
   "cell_type": "code",
   "execution_count": 64,
   "metadata": {},
   "outputs": [
    {
     "name": "stdout",
     "output_type": "stream",
     "text": [
      "1/1 [==============================] - 0s 173ms/step\n"
     ]
    },
    {
     "name": "stdout",
     "output_type": "stream",
     "text": [
      "Dataset/4955186_m.jpg\n"
     ]
    },
    {
     "ename": "error",
     "evalue": "OpenCV(4.7.0) D:\\a\\opencv-python\\opencv-python\\opencv\\modules\\imgproc\\src\\resize.cpp:4062: error: (-215:Assertion failed) !ssize.empty() in function 'cv::resize'\n",
     "output_type": "error",
     "traceback": [
      "\u001b[1;31m---------------------------------------------------------------------------\u001b[0m",
      "\u001b[1;31merror\u001b[0m                                     Traceback (most recent call last)",
      "Cell \u001b[1;32mIn[64], line 30\u001b[0m\n\u001b[0;32m     27\u001b[0m   \u001b[39mprint\u001b[39m(recommended_path)\n\u001b[0;32m     29\u001b[0m   \u001b[39m# Recommend the bottom\u001b[39;00m\n\u001b[1;32m---> 30\u001b[0m   features \u001b[39m=\u001b[39m extract_feature(recommended_path, model_extraction)\n\u001b[0;32m     31\u001b[0m \u001b[39m#   indices = recommend(features, bottom_feature_list)\u001b[39;00m\n\u001b[0;32m     32\u001b[0m \n\u001b[0;32m     33\u001b[0m \u001b[39m#   # Print the recommendation\u001b[39;00m\n\u001b[1;32m   (...)\u001b[0m\n\u001b[0;32m    104\u001b[0m \u001b[39m#       plt.title(f\"Price: {price_output[i]}\") # Harga nya ada di price_output[i]\u001b[39;00m\n\u001b[0;32m    105\u001b[0m \u001b[39m#       plt.show()\u001b[39;00m\n",
      "Cell \u001b[1;32mIn[56], line 15\u001b[0m, in \u001b[0;36mextract_feature\u001b[1;34m(img_path, model)\u001b[0m\n\u001b[0;32m     13\u001b[0m \u001b[39mdef\u001b[39;00m \u001b[39mextract_feature\u001b[39m(img_path, model):\n\u001b[0;32m     14\u001b[0m   img \u001b[39m=\u001b[39m cv2\u001b[39m.\u001b[39mimread(img_path)\n\u001b[1;32m---> 15\u001b[0m   img \u001b[39m=\u001b[39m cv2\u001b[39m.\u001b[39;49mresize(img, (\u001b[39m150\u001b[39;49m,\u001b[39m150\u001b[39;49m))\n\u001b[0;32m     16\u001b[0m   img \u001b[39m=\u001b[39m np\u001b[39m.\u001b[39marray(img)\n\u001b[0;32m     17\u001b[0m   expand_img \u001b[39m=\u001b[39m np\u001b[39m.\u001b[39mexpand_dims(img, axis\u001b[39m=\u001b[39m\u001b[39m0\u001b[39m)\n",
      "\u001b[1;31merror\u001b[0m: OpenCV(4.7.0) D:\\a\\opencv-python\\opencv-python\\opencv\\modules\\imgproc\\src\\resize.cpp:4062: error: (-215:Assertion failed) !ssize.empty() in function 'cv::resize'\n"
     ]
    }
   ],
   "source": [
    "# Image recommendation\n",
    "# ====================\n",
    "\n",
    "if predicted_class == 'top':\n",
    "  features = extract_feature(image_path, model_extraction)\n",
    "  indices = recommend(features, top_feature_list)\n",
    "\n",
    "  # Recommendation file_path\n",
    "  target_file = top_filenames[indices[0][0]]\n",
    "\n",
    "  # Ambil setId dari rekomendasi\n",
    "  filtered_df = df.loc[df['file_path'] == target_file]\n",
    "\n",
    "  set_id = filtered_df[\"setId\"]\n",
    "\n",
    "  for set in set_id:\n",
    "    set_id = set\n",
    "    break\n",
    "  \n",
    "  # Teruskan setId ke dataframe bottom\n",
    "  recommended_path = bottom_filenames_df[bottom_filenames_df['setId'] == set_id][\"file_path\"]\n",
    "\n",
    "  for path in recommended_path:\n",
    "    recommended_path = path\n",
    "    break\n",
    "  \n",
    "  print(recommended_path)\n",
    "\n",
    "  # Recommend the bottom\n",
    "  features = extract_feature(recommended_path, model_extraction)\n",
    "#   indices = recommend(features, bottom_feature_list)\n",
    "\n",
    "#   # Print the recommendation\n",
    "#   target_files = bottom_filenames[indices[0][:5]]\n",
    "\n",
    "#   price_output = []\n",
    "\n",
    "#   for file in target_files:\n",
    "#       filtered_df = bottom_filenames_df.loc[bottom_filenames_df['file_path'] == file]\n",
    "#       prices = filtered_df[\"price\"].values\n",
    "#       if len(prices) > 0:\n",
    "#           price_output.append(prices[0])\n",
    "#       else:\n",
    "#           price_output.append('Unknown')\n",
    "\n",
    "#   # Iterate over the target files and display the images with labels\n",
    "#   for i, target_file in enumerate(target_files):\n",
    "#       image_path = target_file\n",
    "#       img = mpimg.imread(image_path)\n",
    "#       plt.imshow(img)\n",
    "#       plt.axis('off')\n",
    "#       plt.title(f\"Price: {price_output[i]}\") # Ini harus diubah biar hasil iterasinya di masukin ke json, yg bakal dikirim ke android\n",
    "#       plt.show()\n",
    "\n",
    "\n",
    "# # If the input is bottom\n",
    "\n",
    "# else:\n",
    "#   features = extract_feature(image_path, model_extraction)\n",
    "#   indices = recommend(features, bottom_feature_list)\n",
    "\n",
    "#   # Recommendation file_path\n",
    "#   target_file = bottom_filenames[indices[0][0]]\n",
    "\n",
    "#   # Ambil setId dari rekomendasi\n",
    "#   filtered_df = df.loc[df['file_path'] == target_file]\n",
    "\n",
    "#   set_id = filtered_df[\"setId\"]\n",
    "\n",
    "#   for set in set_id:\n",
    "#     set_id = set\n",
    "#     break\n",
    "  \n",
    "#   # Teruskan setId ke dataframe top\n",
    "#   recommended_path = top_filenames_df[top_filenames_df['setId'] == set_id][\"file_path\"]\n",
    "\n",
    "#   for path in recommended_path:\n",
    "#     recommended_path = path\n",
    "#     break\n",
    "\n",
    "#   # Recommend the top\n",
    "#   features = extract_feature(recommended_path, model_extraction)\n",
    "#   indices = recommend(features, top_feature_list)\n",
    "\n",
    "#   # Print the recommendation\n",
    "#   target_files = top_filenames[indices[0][:5]]\n",
    "\n",
    "#   price_output = []\n",
    "\n",
    "#   for file in target_files:\n",
    "#       filtered_df = top_filenames_df.loc[top_filenames_df['file_path'] == file]\n",
    "#       prices = filtered_df[\"price\"].values\n",
    "#       if len(prices) > 0:\n",
    "#           price_output.append(prices[0])\n",
    "#       else:\n",
    "#           price_output.append('Unknown')\n",
    "\n",
    "#   # Iterate over the target files and display the images with labels\n",
    "#   for i, target_file in enumerate(target_files):\n",
    "#       image_path = target_file  # Lokasi image rekomendasi ada di target_file\n",
    "#       img = mpimg.imread(image_path)\n",
    "#       plt.imshow(img)\n",
    "#       plt.axis('off')\n",
    "#       plt.title(f\"Price: {price_output[i]}\") # Harga nya ada di price_output[i]\n",
    "#       plt.show()"
   ]
  },
  {
   "cell_type": "code",
   "execution_count": 41,
   "metadata": {},
   "outputs": [
    {
     "name": "stdout",
     "output_type": "stream",
     "text": [
      "Image loaded successfully.\n"
     ]
    }
   ],
   "source": [
    "import cv2\n",
    "image = cv2.imread('Uploads/test.jpg')\n",
    "if image is not None:\n",
    "    print(\"Image loaded successfully.\")\n",
    "else:\n",
    "    print(\"Failed to load the image.\")\n",
    "cv2.imshow('Image', image)\n",
    "cv2.waitKey(0)\n",
    "cv2.destroyAllWindows()"
   ]
  },
  {
   "cell_type": "code",
   "execution_count": 38,
   "metadata": {},
   "outputs": [],
   "source": [
    "image = cv2.imread('Uploads/test.jpg')"
   ]
  },
  {
   "cell_type": "code",
   "execution_count": 40,
   "metadata": {},
   "outputs": [
    {
     "data": {
      "text/plain": [
       "(150, 150, 3)"
      ]
     },
     "execution_count": 40,
     "metadata": {},
     "output_type": "execute_result"
    }
   ],
   "source": [
    "image.shape"
   ]
  },
  {
   "cell_type": "code",
   "execution_count": null,
   "metadata": {},
   "outputs": [],
   "source": []
  }
 ],
 "metadata": {
  "kernelspec": {
   "display_name": ".venv",
   "language": "python",
   "name": "python3"
  },
  "language_info": {
   "codemirror_mode": {
    "name": "ipython",
    "version": 3
   },
   "file_extension": ".py",
   "mimetype": "text/x-python",
   "name": "python",
   "nbconvert_exporter": "python",
   "pygments_lexer": "ipython3",
   "version": "3.11.2"
  },
  "orig_nbformat": 4
 },
 "nbformat": 4,
 "nbformat_minor": 2
}
