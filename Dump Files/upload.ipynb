{
 "cells": [
  {
   "cell_type": "code",
   "execution_count": 3,
   "metadata": {},
   "outputs": [],
   "source": [
    "from google.cloud import storage\n",
    "from tqdm import tqdm\n",
    "import os\n",
    "from concurrent.futures import ThreadPoolExecutor, as_completed\n",
    "\n",
    "key_path = 'google-cloud-key.json'\n",
    "\n",
    "client = storage.Client.from_service_account_json(key_path)\n",
    "\n",
    "bucket_name = 'fashionism_dataset'\n",
    "bucket = client.get_bucket(bucket_name)\n",
    "\n",
    "folder_path = 'Dataset'\n",
    "\n",
    "def upload_file(file_path):\n",
    "    relative_path = os.path.relpath(file_path, folder_path)\n",
    "    blob = bucket.blob(relative_path)\n",
    "    blob.upload_from_filename(file_path)\n",
    "    blob.make_public()\n",
    "\n",
    "    return f'File {relative_path} uploaded to GCS and set to public.'\n",
    "\n",
    "file_paths = []\n",
    "for root, _, files in os.walk(folder_path):\n",
    "    for file in files:\n",
    "        file_path = os.path.join(root, file)\n",
    "        file_paths.append(file_path)\n",
    "\n",
    "# Use a ThreadPoolExecutor to perform parallel uploads\n",
    "with ThreadPoolExecutor() as executor:\n",
    "    upload_tasks = [executor.submit(upload_file, file_path) for file_path in file_paths]\n",
    "    for future in as_completed(upload_tasks):\n",
    "        result = future.result()\n",
    "        print(result)\n",
    "\n",
    "print('All files uploaded to GCS and set to public.')"
   ]
  },
  {
   "cell_type": "code",
   "execution_count": null,
   "metadata": {},
   "outputs": [],
   "source": []
  }
 ],
 "metadata": {
  "kernelspec": {
   "display_name": ".venv",
   "language": "python",
   "name": "python3"
  },
  "language_info": {
   "codemirror_mode": {
    "name": "ipython",
    "version": 3
   },
   "file_extension": ".py",
   "mimetype": "text/x-python",
   "name": "python",
   "nbconvert_exporter": "python",
   "pygments_lexer": "ipython3",
   "version": "3.11.2"
  },
  "orig_nbformat": 4
 },
 "nbformat": 4,
 "nbformat_minor": 2
}
