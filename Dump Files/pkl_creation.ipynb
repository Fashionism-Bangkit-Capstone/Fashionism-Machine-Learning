{
 "cells": [
  {
   "cell_type": "code",
   "execution_count": 40,
   "metadata": {},
   "outputs": [],
   "source": [
    "import pandas as pd\n",
    "import re\n",
    "import pickle"
   ]
  },
  {
   "cell_type": "code",
   "execution_count": 35,
   "metadata": {},
   "outputs": [],
   "source": [
    "df = pd.read_csv(\"dataset6.csv\")\n",
    "df[\"file_path\"] = df[\"file_path\"].str.replace(\"Dataset/\", \"https://storage.googleapis.com/fashionism_dataset/\")\n",
    "df[\"price\"] = df[\"price\"].replace(to_replace=r'[^0-9]', value='', regex=True)\n",
    "df[\"price\"] = pd.to_numeric(df[\"price\"])\n",
    "df[\"price\"] = df[\"price\"]*100/34 # I scaled based on UMR Jepang dan Indo"
   ]
  },
  {
   "cell_type": "code",
   "execution_count": 41,
   "metadata": {},
   "outputs": [],
   "source": [
    "# Buat list directory top dan bottom\n",
    "\n",
    "top_directory_df = df[df['category_mapped'] == 'Top']\n",
    "bottom_directory_df = df[df['category_mapped'] == 'Bottom']\n",
    "top_directory = df[df['category_mapped'] == 'Top']['file_path'].tolist()\n",
    "bottom_directory = df[df['category_mapped'] == 'Bottom']['file_path'].tolist()\n",
    "\n",
    "# Save to pickle\n",
    "\n",
    "pickle.dump(top_directory, open(\"top_directory.pkl\", \"wb\"))\n",
    "pickle.dump(bottom_directory, open(\"bottom_directory.pkl\", \"wb\"))\n",
    "pickle.dump(top_directory_df, open(\"top_directory_df.pkl\", \"wb\"))\n",
    "pickle.dump(bottom_directory_df, open(\"bottom_directory_df.pkl\", \"wb\"))"
   ]
  }
 ],
 "metadata": {
  "kernelspec": {
   "display_name": ".venv",
   "language": "python",
   "name": "python3"
  },
  "language_info": {
   "codemirror_mode": {
    "name": "ipython",
    "version": 3
   },
   "file_extension": ".py",
   "mimetype": "text/x-python",
   "name": "python",
   "nbconvert_exporter": "python",
   "pygments_lexer": "ipython3",
   "version": "3.11.2"
  },
  "orig_nbformat": 4
 },
 "nbformat": 4,
 "nbformat_minor": 2
}
